{
 "cells": [
  {
   "cell_type": "markdown",
   "metadata": {},
   "source": [
    "## Задание по numpy\n",
    "1. Напишите свой аналог np.linspace с использованием цикла и с использованием list comprehension. Сравните все три варианта по производительности\n",
    "1. Сравните по производительности основные операции с массивами (array) numpy и с list"
   ]
  },
  {
   "cell_type": "code",
   "execution_count": 1,
   "metadata": {
    "collapsed": true
   },
   "outputs": [],
   "source": [
    "import numpy as np"
   ]
  },
  {
   "cell_type": "code",
   "execution_count": 53,
   "metadata": {
    "collapsed": true
   },
   "outputs": [],
   "source": [
    "def mylinspace_cyc(start, stop, num=50, endpoint=True, retstep=False):\n",
    "    result = []\n",
    "    step = (stop - start)*1.0/(num - 1)\n",
    "    for number in np.arange(start, stop, step):\n",
    "        result.append(number)\n",
    "    if(endpoint):\n",
    "        result.append(stop)\n",
    "    else:\n",
    "        result.append(result[-1] + step)\n",
    "    if(retstep):\n",
    "        return (np.array(result), step)\n",
    "    return(np.array(result))"
   ]
  },
  {
   "cell_type": "code",
   "execution_count": 69,
   "metadata": {
    "collapsed": false
   },
   "outputs": [],
   "source": [
    "def mylinspace_compr(start,stop, num=50, endpoint=True, retstep=False):\n",
    "    step = (stop - start)*1.0/(num-1)\n",
    "    result = [number for number in np.arange(start,stop,step)]\n",
    "    if(endpoint):\n",
    "        result.append(stop)\n",
    "    else:\n",
    "        result.append(result[-1] + step)\n",
    "    if(retstep):\n",
    "        return (np.array(result), step)\n",
    "    return(np.array(result))"
   ]
  },
  {
   "cell_type": "code",
   "execution_count": 71,
   "metadata": {
    "collapsed": false
   },
   "outputs": [
    {
     "name": "stdout",
     "output_type": "stream",
     "text": [
      "The slowest run took 5.67 times longer than the fastest. This could mean that an intermediate result is being cached.\n",
      "10000 loops, best of 3: 31.5 µs per loop\n",
      "100 loops, best of 3: 2.17 ms per loop\n",
      "1000 loops, best of 3: 1.64 ms per loop\n"
     ]
    }
   ],
   "source": [
    "%timeit np.linspace(1,200, 10000)\n",
    "%timeit mylinspace_cyc(1,200, 10000)\n",
    "%timeit mylinspace_compr(1,200, 10000)"
   ]
  },
  {
   "cell_type": "code",
   "execution_count": 82,
   "metadata": {
    "collapsed": true
   },
   "outputs": [],
   "source": [
    "my_list = [-i for i in range(0,10000)]\n",
    "my_array = np.array(list)"
   ]
  },
  {
   "cell_type": "markdown",
   "metadata": {},
   "source": [
    "## Обращение по индексу"
   ]
  },
  {
   "cell_type": "code",
   "execution_count": 89,
   "metadata": {
    "collapsed": false
   },
   "outputs": [
    {
     "name": "stdout",
     "output_type": "stream",
     "text": [
      "10000000 loops, best of 3: 49.8 ns per loop\n",
      "The slowest run took 39.36 times longer than the fastest. This could mean that an intermediate result is being cached.\n",
      "10000000 loops, best of 3: 110 ns per loop\n"
     ]
    }
   ],
   "source": [
    "%timeit my_list[5000]\n",
    "%timeit my_array[5000]"
   ]
  },
  {
   "cell_type": "markdown",
   "metadata": {},
   "source": [
    "## Сортировка"
   ]
  },
  {
   "cell_type": "code",
   "execution_count": 84,
   "metadata": {
    "collapsed": false
   },
   "outputs": [
    {
     "name": "stdout",
     "output_type": "stream",
     "text": [
      "10000 loops, best of 3: 69 µs per loop\n",
      "1000 loops, best of 3: 211 µs per loop\n"
     ]
    }
   ],
   "source": [
    "%timeit my_array.sort()\n",
    "%timeit my_list.sort()"
   ]
  },
  {
   "cell_type": "markdown",
   "metadata": {},
   "source": [
    "## Перезапись значения по заданному индексу"
   ]
  },
  {
   "cell_type": "code",
   "execution_count": 90,
   "metadata": {
    "collapsed": false
   },
   "outputs": [
    {
     "name": "stdout",
     "output_type": "stream",
     "text": [
      "The slowest run took 21.26 times longer than the fastest. This could mean that an intermediate result is being cached.\n",
      "10000000 loops, best of 3: 55.7 ns per loop\n",
      "The slowest run took 27.45 times longer than the fastest. This could mean that an intermediate result is being cached.\n",
      "10000000 loops, best of 3: 129 ns per loop\n"
     ]
    }
   ],
   "source": [
    "%timeit my_list[5000] = 0\n",
    "%timeit my_array[5000] = 0"
   ]
  }
 ],
 "metadata": {
  "kernelspec": {
   "display_name": "Python [conda root]",
   "language": "python",
   "name": "conda-root-py"
  },
  "language_info": {
   "codemirror_mode": {
    "name": "ipython",
    "version": 2
   },
   "file_extension": ".py",
   "mimetype": "text/x-python",
   "name": "python",
   "nbconvert_exporter": "python",
   "pygments_lexer": "ipython2",
   "version": "2.7.12"
  }
 },
 "nbformat": 4,
 "nbformat_minor": 1
}
